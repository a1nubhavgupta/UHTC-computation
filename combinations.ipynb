{
 "cells": [
  {
   "cell_type": "code",
   "execution_count": 1,
   "id": "e1e2e2d5",
   "metadata": {
    "scrolled": true
   },
   "outputs": [
    {
     "name": "stdout",
     "output_type": "stream",
     "text": [
      "0     Ti\n",
      "1     Zr\n",
      "2     Hf\n",
      "3     Sc\n",
      "4      V\n",
      "5     Cr\n",
      "6     Ga\n",
      "7     Ni\n",
      "8      Y\n",
      "9     Nb\n",
      "10    Mo\n",
      "11    Tc\n",
      "12    Ru\n",
      "13    Ta\n",
      "14     W\n",
      "15    Ir\n",
      "16    Au\n",
      "17    Al\n",
      "18    In\n",
      "19    La\n",
      "Name: Elements , dtype: object\n"
     ]
    }
   ],
   "source": [
    "import numpy as np\n",
    "import pandas as pd\n",
    "df = pd.read_csv(\"constituent elements and data of their features 1.csv\")\n",
    "print(df.iloc[:,0])\n",
    "#print(df.shape)"
   ]
  },
  {
   "cell_type": "code",
   "execution_count": 2,
   "id": "8e69124f",
   "metadata": {
    "scrolled": false
   },
   "outputs": [],
   "source": [
    "from itertools import combinations\n",
    "\n",
    "all_elements = []\n",
    "for i in range(len(df.iloc[:,0])):\n",
    "    all_elements.append(df.iloc[:,0][i])\n",
    "    \n",
    "combination_size = 4\n",
    "\n",
    "all_combinations_hyphenated = ['-'.join(combination) for combination in combinations(all_elements, combination_size)]\n",
    "\n",
    "all_combinations = []\n",
    "for combination in all_combinations_hyphenated:\n",
    "    all_combinations.append(combination)\n",
    "#print(all_combinations)    "
   ]
  },
  {
   "cell_type": "code",
   "execution_count": 3,
   "id": "b0dac2d6",
   "metadata": {},
   "outputs": [
    {
     "name": "stdout",
     "output_type": "stream",
     "text": [
      "           Combination  Cohesive Energy   VEC  Melting point  Molar volume  \\\n",
      "0     (Ti, Zr, Hf, Sc)           5.3725  3.75        2091.25      13.27600   \n",
      "1      (Ti, Zr, Hf, V)           5.7250  4.25        2179.00      11.60600   \n",
      "2     (Ti, Zr, Hf, Cr)           5.4225  4.50        2170.75      11.33350   \n",
      "3     (Ti, Zr, Hf, Ga)           5.1000  3.75        1714.00      12.47675   \n",
      "4     (Ti, Zr, Hf, Ni)           5.5075  5.50        2069.75      11.17350   \n",
      "...                ...              ...   ...            ...           ...   \n",
      "4840  (Ir, Au, Al, In)           4.1650  6.50        1345.75      11.12250   \n",
      "4841  (Ir, Au, Al, La)           4.6525  6.50        1536.50      12.77900   \n",
      "4842  (Ir, Au, In, La)           4.4350  6.50        1410.75      14.21900   \n",
      "4843  (Ir, Al, In, La)           4.3300  4.50        1309.75      14.16650   \n",
      "4844  (Au, Al, In, La)           3.5475  5.00         973.25      14.58900   \n",
      "\n",
      "      Molar density  Molar mass  covalent radius  \n",
      "0           6.82750    90.63425           116.25  \n",
      "1           7.58000    92.13075           114.25  \n",
      "2           7.86750    92.39425           113.50  \n",
      "3           7.55750    96.82525           118.00  \n",
      "4           8.30525    94.06850           113.00  \n",
      "...             ...         ...              ...  \n",
      "4840       12.96725   132.74800           121.75  \n",
      "4841       12.67725   138.77050           120.00  \n",
      "4842       13.82975   160.73000           128.75  \n",
      "4843        9.67975   118.23300           125.75  \n",
      "4844        8.86500   119.42050           129.75  \n",
      "\n",
      "[4845 rows x 8 columns]\n"
     ]
    }
   ],
   "source": [
    "import pandas as pd\n",
    "from itertools import combinations\n",
    "\n",
    "all_elements = df.iloc[:,0].tolist()\n",
    "data_points = df.iloc[:,1].tolist()\n",
    "data_points_1 = df.iloc[:,2].tolist()\n",
    "data_points_2 = df.iloc[:,3].tolist()\n",
    "data_points_3 = df.iloc[:,4].tolist()\n",
    "data_points_4 = df.iloc[:,5].tolist()\n",
    "data_points_5 = df.iloc[:,6].tolist()\n",
    "data_points_6 = df.iloc[:,7].tolist()\n",
    "#print(data_points_1)\n",
    "#print(df.shape)\n",
    "combination_size = 4\n",
    "\n",
    "all_combinations = list(combinations(all_elements, combination_size))\n",
    "\n",
    "average_data_points = []\n",
    "average_data_points_1 = []\n",
    "average_data_points_2 = []\n",
    "average_data_points_3 = []\n",
    "average_data_points_4 = []\n",
    "average_data_points_5 = []\n",
    "average_data_points_6 = []\n",
    "\n",
    "\n",
    "for combination in all_combinations:\n",
    "    indices = [all_elements.index(element) for element in combination]\n",
    "    \n",
    "    data_subset = [data_points[index] for index in indices]\n",
    "    average_data_point = sum(data_subset) / len(data_subset)\n",
    "    average_data_points.append(average_data_point)\n",
    "    \n",
    "    data_subset_1 = [data_points_1[index] for index in indices]\n",
    "    average_data_point_1 = sum(data_subset_1) / len(data_subset_1)\n",
    "    average_data_points_1.append(average_data_point_1)\n",
    "    \n",
    "    data_subset_2 = [data_points_2[index] for index in indices]\n",
    "    average_data_point_2 = sum(data_subset_2) / len(data_subset_2)\n",
    "    average_data_points_2.append(average_data_point_2)\n",
    "    \n",
    "    data_subset_3 = [data_points_3[index] for index in indices]\n",
    "    average_data_point_3 = sum(data_subset_3) / len(data_subset_3)\n",
    "    average_data_points_3.append(average_data_point_3)\n",
    "    \n",
    "    data_subset_4 = [data_points_4[index] for index in indices]\n",
    "    average_data_point_4 = sum(data_subset_4) / len(data_subset_4)\n",
    "    average_data_points_4.append(average_data_point_4)\n",
    "    \n",
    "    data_subset_5 = [data_points_5[index] for index in indices]\n",
    "    average_data_point_5 = sum(data_subset_5) / len(data_subset_5)\n",
    "    average_data_points_5.append(average_data_point_5)\n",
    "    \n",
    "    data_subset_6 = [data_points_6[index] for index in indices]\n",
    "    average_data_point_6 = sum(data_subset_6) / len(data_subset_6)\n",
    "    average_data_points_6.append(average_data_point_6)\n",
    "    \n",
    "result_df = pd.DataFrame({'Combination': all_combinations, 'Cohesive Energy': average_data_points,'VEC': average_data_points_6,'Melting point':average_data_points_1,'Molar volume':average_data_points_2,'Molar density':average_data_points_3,'Molar mass':average_data_points_4,'covalent radius':average_data_points_5})\n",
    "\n",
    "print(result_df)"
   ]
  },
  {
   "cell_type": "code",
   "execution_count": 4,
   "id": "7f2ea21b",
   "metadata": {},
   "outputs": [
    {
     "data": {
      "text/html": [
       "<a href=\"All combinations 4 final.csv\" download>Click here to download the CSV file</a>"
      ],
      "text/plain": [
       "<IPython.core.display.HTML object>"
      ]
     },
     "execution_count": 4,
     "metadata": {},
     "output_type": "execute_result"
    }
   ],
   "source": [
    "csv_file_path = 'All combinations 4 final.csv'  # Replace 'your_file.csv' with the desired file name\n",
    "\n",
    "# Save the DataFrame to a CSV file\n",
    "result_df.to_csv(csv_file_path, index=False)\n",
    "from IPython.display import FileLink\n",
    "FileLink(csv_file_path)\n",
    "from IPython.display import HTML\n",
    "\n",
    "HTML(f'<a href=\"{csv_file_path}\" download>Click here to download the CSV file</a>')\n"
   ]
  },
  {
   "cell_type": "code",
   "execution_count": null,
   "id": "9798d483",
   "metadata": {},
   "outputs": [],
   "source": []
  }
 ],
 "metadata": {
  "kernelspec": {
   "display_name": "Python 3 (ipykernel)",
   "language": "python",
   "name": "python3"
  },
  "language_info": {
   "codemirror_mode": {
    "name": "ipython",
    "version": 3
   },
   "file_extension": ".py",
   "mimetype": "text/x-python",
   "name": "python",
   "nbconvert_exporter": "python",
   "pygments_lexer": "ipython3",
   "version": "3.11.5"
  }
 },
 "nbformat": 4,
 "nbformat_minor": 5
}
