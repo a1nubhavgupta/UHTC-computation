{
 "cells": [
  {
   "cell_type": "code",
   "execution_count": 1,
   "id": "80efb426-0f2f-4a94-a0d0-5f9d9f147673",
   "metadata": {},
   "outputs": [
    {
     "ename": "ModuleNotFoundError",
     "evalue": "No module named 'scikitplot'",
     "output_type": "error",
     "traceback": [
      "\u001b[0;31m---------------------------------------------------------------------------\u001b[0m",
      "\u001b[0;31mModuleNotFoundError\u001b[0m                       Traceback (most recent call last)",
      "Cell \u001b[0;32mIn[1], line 9\u001b[0m\n\u001b[1;32m      7\u001b[0m \u001b[38;5;28;01mimport\u001b[39;00m \u001b[38;5;21;01msklearn\u001b[39;00m\n\u001b[1;32m      8\u001b[0m \u001b[38;5;28;01mfrom\u001b[39;00m \u001b[38;5;21;01mpandas\u001b[39;00m \u001b[38;5;28;01mimport\u001b[39;00m DataFrame\n\u001b[0;32m----> 9\u001b[0m \u001b[38;5;28;01mimport\u001b[39;00m \u001b[38;5;21;01mscikitplot\u001b[39;00m \u001b[38;5;28;01mas\u001b[39;00m \u001b[38;5;21;01mskplt\u001b[39;00m\n\u001b[1;32m     10\u001b[0m \u001b[38;5;28;01mfrom\u001b[39;00m \u001b[38;5;21;01msklearn\u001b[39;00m\u001b[38;5;21;01m.\u001b[39;00m\u001b[38;5;21;01mmulticlass\u001b[39;00m \u001b[38;5;28;01mimport\u001b[39;00m OneVsRestClassifier\n\u001b[1;32m     11\u001b[0m \u001b[38;5;28;01mfrom\u001b[39;00m \u001b[38;5;21;01msklearn\u001b[39;00m\u001b[38;5;21;01m.\u001b[39;00m\u001b[38;5;21;01mmodel_selection\u001b[39;00m \u001b[38;5;28;01mimport\u001b[39;00m train_test_split\n",
      "\u001b[0;31mModuleNotFoundError\u001b[0m: No module named 'scikitplot'"
     ]
    }
   ],
   "source": [
    "import pandas as pd\n",
    "import numpy as np\n",
    "import matplotlib.pyplot as plt\n",
    "import seaborn as sns\n",
    "from itertools import combinations\n",
    "from pandas import DataFrame\n",
    "import sklearn\n",
    "from pandas import DataFrame\n",
    "import scikitplot as skplt\n",
    "from sklearn.multiclass import OneVsRestClassifier\n",
    "from sklearn.model_selection import train_test_split\n",
    "from sklearn.decomposition import PCA \n",
    "from sklearn.pipeline import Pipeline\n",
    "from sklearn.preprocessing import StandardScaler \n",
    "from sklearn.model_selection import GridSearchCV, cross_val_score\n",
    "from sklearn.neighbors import KNeighborsClassifier\n",
    "from sklearn.ensemble import RandomForestClassifier\n",
    "from sklearn.naive_bayes import GaussianNB\n",
    "from sklearn.svm import LinearSVC\n",
    "svm=LinearSVC()\n",
    "kn=KNeighborsClassifier()\n",
    "rf=RandomForestClassifier()\n",
    "gnb=GaussianNB()"
   ]
  },
  {
   "cell_type": "code",
   "execution_count": null,
   "id": "211e2343",
   "metadata": {},
   "outputs": [],
   "source": [
    "import matplotlib as mt\n",
    "axes= {\"linewidth\" : 3}\n",
    "mt.rc(\"axes\", **axes)\n",
    "font={\"weight\": 'bold', \"family\": \"Times new roman\", \"size\": 20}\n",
    "mt.rc(\"font\", **font)"
   ]
  },
  {
   "cell_type": "code",
   "execution_count": null,
   "id": "cc9c8a0c",
   "metadata": {},
   "outputs": [],
   "source": [
    "dataset=pd.read_csv(\"sorted 2.csv\")\n",
    "print(dataset.columns)"
   ]
  },
  {
   "cell_type": "code",
   "execution_count": null,
   "id": "73d570a0",
   "metadata": {},
   "outputs": [],
   "source": [
    "x=dataset[[\"Cohesive energy\",\"Pauling\",\"Mulliken\",\"ENTROPY\",\"Min radius\",\"Atomic mismatch\",\"VEC\",\"Density\",\"Volume\",\"Average mass\",\"Covalent radius(pm)\",\"Enthalpy \"]]\n",
    "y=dataset[[\"Formation boolean\"]]\n",
    "x"
   ]
  },
  {
   "cell_type": "code",
   "execution_count": null,
   "id": "d0475a01",
   "metadata": {},
   "outputs": [],
   "source": [
    "from scipy.stats import pointbiserialr\n",
    "\n",
    "biserial_corr, p_value = pointbiserialr(dataset[\"VEC\"],dataset[\"Mulliken\"])\n",
    "print(\"Biserial Correlation Coefficient:\", biserial_corr)\n"
   ]
  },
  {
   "cell_type": "code",
   "execution_count": null,
   "id": "4e17d3a6",
   "metadata": {},
   "outputs": [],
   "source": [
    "import pandas as pd\n",
    "import matplotlib.pyplot as plt\n",
    "\n",
    "\n",
    "plt.scatter(dataset[\"Mulliken\"], dataset['Cohesive energy'], c=dataset[\"Formation boolean\"], cmap='viridis')\n",
    "\n",
    "plt.title('Scatter Plot of Data Points')\n",
    "plt.xlabel('Mulliken')\n",
    "plt.ylabel('Cohesive energy')\n",
    "\n",
    "\n",
    "plt.show()\n",
    "f1 = plt.figure()\n",
    "#shap.summary_plot(shap_values)\n",
    "f1.savefig('scatterplot before  adasyn test set.jpg',dpi=600, bbox_inches='tight')"
   ]
  },
  {
   "cell_type": "code",
   "execution_count": null,
   "id": "af2b78c3",
   "metadata": {},
   "outputs": [],
   "source": [
    "from imblearn.over_sampling import ADASYN\n",
    "\n",
    "ada = ADASYN(sampling_strategy='minority', random_state=42)\n",
    "x_train3, y_train3 = ada.fit_resample(x, y)\n",
    "df2=pd.concat([x_train3, y_train3], axis=1)\n",
    "df2.to_csv('post adasyn.csv', index=False)\n",
    "\n",
    "x_train2 = x_train3.head(50).copy()\n",
    "x_train1 = x_train3.drop(x_train3.head(50).index)\n",
    "y_train2 = y_train3.head(50).copy()\n",
    "y_train1 = y_train3.drop(y_train3.head(50).index)\n",
    "df3=pd.concat([x_train2, y_train2], axis=1)\n",
    "df1=pd.concat([x_train1, y_train1], axis=1)\n",
    "print(y_train1)\n",
    "value_counts = y_train1.value_counts()\n",
    "print(value_counts)"
   ]
  },
  {
   "cell_type": "code",
   "execution_count": null,
   "id": "1d13efaa",
   "metadata": {},
   "outputs": [],
   "source": [
    "import pandas as pd\n",
    "import matplotlib.pyplot as plt\n",
    "\n",
    "\n",
    "plt.scatter(x_train3[\"Mulliken\"], x_train3['Cohesive energy'], c=y_train3[\"Formation boolean\"], cmap='viridis')\n",
    "\n",
    "plt.title('Scatter Plot of Data Points')\n",
    "plt.xlabel('Mulliken')\n",
    "plt.ylabel('Cohesive energy')\n",
    "\n",
    "\n",
    "plt.show()\n",
    "f3 = plt.figure()\n",
    "#shap.summary_plot(shap_values)\n",
    "f3.savefig('scatterplot after adasyn test set.jpg',dpi=600, bbox_inches='tight')"
   ]
  },
  {
   "cell_type": "code",
   "execution_count": null,
   "id": "94adccc9",
   "metadata": {},
   "outputs": [],
   "source": [
    "import pandas as pd\n",
    "from imblearn.under_sampling import EditedNearestNeighbours\n",
    "from sklearn.model_selection import train_test_split\n",
    "\n",
    "X = df1.drop('Formation boolean', axis=1)\n",
    "y = df1['Formation boolean']\n",
    "\n",
    "X_train, X_test, y_train, y_test = train_test_split(X, y, test_size=0.3, random_state=42)\n",
    "\n",
    "enn = EditedNearestNeighbours(sampling_strategy='auto')\n",
    "X_train_resampled, y_train_resampled = enn.fit_resample(X_train, y_train)\n",
    "df4=pd.concat([X_train_resampled, y_train_resampled], axis=1)\n",
    "#plt.scatter(df4[\"Mulliken\"], df4['Cohesive energy'])\n",
    "plt.scatter(df4[\"Mulliken\"], df4['Cohesive energy'], c=df4[\"Formation boolean\"], cmap='viridis')\n",
    "plt.title('Scatter Plot of Data Points')\n",
    "plt.xlabel('Mulliken')\n",
    "plt.ylabel('Cohesive energy')\n",
    "plt.show()\n",
    "df4\n"
   ]
  },
  {
   "cell_type": "code",
   "execution_count": null,
   "id": "857bb7a1",
   "metadata": {},
   "outputs": [],
   "source": [
    "df5 =pd.concat([df3,df4],axis = 0)\n",
    "new_index = range(520)\n",
    "df5 = df5.reset_index(drop=True).reindex(new_index)\n",
    "df5"
   ]
  },
  {
   "cell_type": "code",
   "execution_count": null,
   "id": "44ca550f",
   "metadata": {},
   "outputs": [],
   "source": [
    "df5.to_csv('segregated4.csv', index=False)\n",
    "x1=df5[[\"Cohesive energy\",\"Pauling\",\"Mulliken\",\"ENTROPY\",\"Min radius\",\"Atomic mismatch\",\"VEC\",\"Density\",\"Volume\",\"Average mass\",\"Covalent radius(pm)\",\"Enthalpy \"]]\n",
    "y1=df5[[\"Formation boolean\"]]\n",
    "x1"
   ]
  },
  {
   "cell_type": "code",
   "execution_count": null,
   "id": "b5b566a5",
   "metadata": {},
   "outputs": [],
   "source": []
  },
  {
   "cell_type": "code",
   "execution_count": null,
   "id": "1e011e1d",
   "metadata": {},
   "outputs": [],
   "source": []
  }
 ],
 "metadata": {
  "kernelspec": {
   "display_name": "Python 3 (ipykernel)",
   "language": "python",
   "name": "python3"
  },
  "language_info": {
   "codemirror_mode": {
    "name": "ipython",
    "version": 3
   },
   "file_extension": ".py",
   "mimetype": "text/x-python",
   "name": "python",
   "nbconvert_exporter": "python",
   "pygments_lexer": "ipython3",
   "version": "3.11.5"
  }
 },
 "nbformat": 4,
 "nbformat_minor": 5
}
